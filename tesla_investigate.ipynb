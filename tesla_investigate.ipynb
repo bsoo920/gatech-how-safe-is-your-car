{
 "cells": [
  {
   "cell_type": "code",
   "execution_count": 1,
   "metadata": {},
   "outputs": [],
   "source": [
    "import csv as csv\n",
    "import numpy as np\n",
    "import pandas as pd"
   ]
  },
  {
   "cell_type": "code",
   "execution_count": 9,
   "metadata": {},
   "outputs": [],
   "source": [
    "def readCrashData(accYearStart, accYearEnd, nrows=None):\n",
    "    dir = 'NHTSA-FARS-download/'\n",
    "    usecols = ['MOD_YEAR', 'MAKE', 'MODEL', 'DEATHS']\n",
    "\n",
    "    dfCrash = None\n",
    "    for accYear in range(accYearStart, accYearEnd + 1):\n",
    "\n",
    "        print( accYear,'', end='')\n",
    "        df = pd.read_csv(\n",
    "            f'{dir}vehicle{accYear}.csv', encoding='latin1', header=0, usecols=usecols, nrows=nrows)  \n",
    "#             f'{dir}tesla{accYear}.csv', encoding='latin1', header=0, usecols=usecols, nrows=nrows)  \n",
    "            #.astype(str)      # , dtype={'DEATHS':'int32'}        \n",
    "\n",
    "        df['ACC_YEAR'] = accYear\n",
    "        if dfCrash is None:\n",
    "            dfCrash = df\n",
    "        else:\n",
    "            dfCrash = pd.concat([dfCrash, df], ignore_index=True)\n",
    "    \n",
    "    print('')\n",
    "    dfCrash = dfCrash.rename(columns = {'MAKE':'Make_ID', 'MODEL':'Model_ID', 'DEATHS':'fatalities'})\n",
    "\n",
    "    return dfCrash"
   ]
  },
  {
   "cell_type": "code",
   "execution_count": 18,
   "metadata": {},
   "outputs": [
    {
     "name": "stdout",
     "output_type": "stream",
     "text": [
      "2019 \n",
      "40\n",
      "       Make_ID  Model_ID  MOD_YEAR  fatalities  ACC_YEAR\n",
      "3805        29         5      2018           0      2019\n",
      "4235        29         5      2014           1      2019\n",
      "6130        29         5      2018           1      2019\n",
      "6248        29         5      2018           0      2019\n",
      "6309        29         5      2019           1      2019\n",
      "6483        29         5      2018           0      2019\n",
      "6647        29         5      2017           0      2019\n",
      "6868        29         5      2018           0      2019\n",
      "6907        29         5      2019           0      2019\n",
      "7550        29         5      2016           0      2019\n",
      "7575        29         5      2014           0      2019\n",
      "7636        29         5      2018           0      2019\n",
      "7910        29         5      2018           1      2019\n",
      "8090        29         5      2018           0      2019\n",
      "8226        29         5      2019           0      2019\n",
      "8285        29         5      2016           0      2019\n",
      "8513        29         5      2018           0      2019\n",
      "9973        29         5      2018           0      2019\n",
      "10043       29         5      2018           0      2019\n",
      "10793       29         5      2018           1      2019\n",
      "10851       29         5      2018           1      2019\n",
      "11336       29         5      2016           1      2019\n",
      "11534       29         5      2019           0      2019\n",
      "13322       29         5      2019           1      2019\n",
      "14003       29         5      2015           0      2019\n",
      "14062       29         5      2019           1      2019\n",
      "14802       29         5      2018           2      2019\n",
      "20152       29         5      2019           1      2019\n",
      "20464       29         5      2016           0      2019\n",
      "28056       29         5      2018           0      2019\n",
      "29533       29         5      2019           0      2019\n",
      "29688       29         5      2020           0      2019\n",
      "35687       29         5      2017           0      2019\n",
      "38708       29         5      2019           1      2019\n",
      "38864       29         5      2019           0      2019\n",
      "47334       29         5      2019           0      2019\n",
      "47475       29         5      2019           0      2019\n",
      "49172       29         5      2018           0      2019\n",
      "50192       29         5      2014           1      2019\n",
      "50923       29         5      2018           1      2019\n"
     ]
    }
   ],
   "source": [
    "df = readCrashData(2019,2019)\n",
    "dfTesla = df.query('Make_ID == 29')\n",
    "print(len(dfTesla))\n",
    "print(dfTesla)"
   ]
  },
  {
   "cell_type": "code",
   "execution_count": 19,
   "metadata": {},
   "outputs": [
    {
     "name": "stdout",
     "output_type": "stream",
     "text": [
      "2018 2019 2020 \n",
      "28\n",
      "        Make_ID  Model_ID  MOD_YEAR  fatalities  ACC_YEAR\n",
      "8678         29         5      2018           0      2018\n",
      "50176        29         5      2018           1      2018\n",
      "56091        29         5      2018           0      2019\n",
      "58416        29         5      2018           1      2019\n",
      "58534        29         5      2018           0      2019\n",
      "58769        29         5      2018           0      2019\n",
      "59154        29         5      2018           0      2019\n",
      "59922        29         5      2018           0      2019\n",
      "60196        29         5      2018           1      2019\n",
      "60376        29         5      2018           0      2019\n",
      "60799        29         5      2018           0      2019\n",
      "62259        29         5      2018           0      2019\n",
      "62329        29         5      2018           0      2019\n",
      "63079        29         5      2018           1      2019\n",
      "63137        29         5      2018           1      2019\n",
      "67088        29         5      2018           2      2019\n",
      "80342        29         5      2018           0      2019\n",
      "101458       29         5      2018           0      2019\n",
      "103209       29         5      2018           1      2019\n",
      "108402       29         5      2018           1      2020\n",
      "109219       29         5      2018           0      2020\n",
      "109252       29         5      2018           0      2020\n",
      "111426       29         5      2018           2      2020\n",
      "112638       29         5      2018           0      2020\n",
      "113120       29         5      2018           0      2020\n",
      "114669       29         5      2018           0      2020\n",
      "129716       29         5      2018           0      2020\n",
      "155507       29         5      2018           0      2020\n"
     ]
    }
   ],
   "source": [
    "df = readCrashData(2018,2020)\n",
    "dfTesla = df.query('Make_ID == 29 and MOD_YEAR == 2018')\n",
    "print(len(dfTesla))\n",
    "print(dfTesla)"
   ]
  },
  {
   "cell_type": "code",
   "execution_count": null,
   "metadata": {},
   "outputs": [],
   "source": []
  }
 ],
 "metadata": {
  "kernelspec": {
   "display_name": "Python 3",
   "language": "python",
   "name": "python3"
  },
  "language_info": {
   "codemirror_mode": {
    "name": "ipython",
    "version": 3
   },
   "file_extension": ".py",
   "mimetype": "text/x-python",
   "name": "python",
   "nbconvert_exporter": "python",
   "pygments_lexer": "ipython3",
   "version": "3.8.3"
  }
 },
 "nbformat": 4,
 "nbformat_minor": 4
}
